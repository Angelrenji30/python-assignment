{
  "cells": [
    {
      "cell_type": "markdown",
      "id": "d2328cad",
      "metadata": {
        "id": "d2328cad"
      },
      "source": [
        "# Python Basics Assignment"
      ]
    },
    {
      "cell_type": "markdown",
      "id": "cb537954",
      "metadata": {
        "id": "cb537954"
      },
      "source": [
        "### Question 1\n",
        "Write a function to compute number of vowels in a string given as input"
      ]
    },
    {
      "cell_type": "code",
      "execution_count": 9,
      "id": "cf213ba2",
      "metadata": {
        "colab": {
          "base_uri": "https://localhost:8080/"
        },
        "id": "cf213ba2",
        "outputId": "1982093b-b3ae-484e-daff-bc60ac4ebf0d"
      },
      "outputs": [
        {
          "output_type": "stream",
          "name": "stdout",
          "text": [
            "enter a string: orange\n",
            "3\n"
          ]
        }
      ],
      "source": [
        "# Your code here\n",
        "def vowels():\n",
        "  x = input(\"enter a string: \")\n",
        "  count = 0\n",
        "  vowels = \"aeiouAEIOU\"\n",
        "  for char in x:\n",
        "    if char in vowels:\n",
        "      count = count + 1\n",
        "  print(count)\n",
        "vowels()"
      ]
    },
    {
      "cell_type": "markdown",
      "id": "4eaff430",
      "metadata": {
        "id": "4eaff430"
      },
      "source": [
        "### Question 2\n",
        "Write a function that checks whether a number is prime."
      ]
    },
    {
      "cell_type": "code",
      "execution_count": 16,
      "id": "81934cf7",
      "metadata": {
        "colab": {
          "base_uri": "https://localhost:8080/"
        },
        "id": "81934cf7",
        "outputId": "fb93b7a5-5142-4318-da78-0a9d212bf150"
      },
      "outputs": [
        {
          "output_type": "stream",
          "name": "stdout",
          "text": [
            "enter a number: 12\n",
            "12 is not a prime number\n"
          ]
        }
      ],
      "source": [
        "# Your code here\n",
        "def prime_number():\n",
        "  x = int(input(\"enter a number: \"))\n",
        "  if x > 1:\n",
        "    for i in range(2, x):\n",
        "      if (x % i) == 0:\n",
        "        print(x,\"is not a prime number\")\n",
        "        break\n",
        "    else:\n",
        "      print(x,\"is a prime number\")\n",
        "prime_number()"
      ]
    },
    {
      "cell_type": "markdown",
      "id": "5f061e50",
      "metadata": {
        "id": "5f061e50"
      },
      "source": [
        "### Question 3\n",
        "Write a function to return the maximum of two numbers."
      ]
    },
    {
      "cell_type": "code",
      "execution_count": 18,
      "id": "44e2a596",
      "metadata": {
        "colab": {
          "base_uri": "https://localhost:8080/"
        },
        "id": "44e2a596",
        "outputId": "5759aa2e-95f3-4726-8fc1-6122f08204c3"
      },
      "outputs": [
        {
          "output_type": "stream",
          "name": "stdout",
          "text": [
            "enter first number: 12\n",
            "enter second number: 2\n",
            "12 is greater than b\n"
          ]
        }
      ],
      "source": [
        "# Your code here\n",
        "def max():\n",
        "  a = int(input(\"enter first number: \"))\n",
        "  b = int(input(\"enter second number: \"))\n",
        "  if a > b:\n",
        "    print(a,\"is greater than b\")\n",
        "  else:\n",
        "    print(b,\"is greater than a\")\n",
        "max()"
      ]
    },
    {
      "cell_type": "markdown",
      "id": "7513ca91",
      "metadata": {
        "id": "7513ca91"
      },
      "source": [
        "### Question 4\n",
        "Write a function to return the factorial of a number."
      ]
    },
    {
      "cell_type": "code",
      "execution_count": 20,
      "id": "6617842f",
      "metadata": {
        "colab": {
          "base_uri": "https://localhost:8080/"
        },
        "id": "6617842f",
        "outputId": "74c56b8f-deac-4616-c64f-0b4872024f05"
      },
      "outputs": [
        {
          "output_type": "stream",
          "name": "stdout",
          "text": [
            "enter a number: 5\n",
            "120\n"
          ]
        }
      ],
      "source": [
        "# Your code here\n",
        "def factorial():\n",
        "    x = int(input(\"enter a number: \"))\n",
        "    fact = 1\n",
        "    for i in range(1, x+1):\n",
        "      fact = fact * i\n",
        "    print(fact)\n",
        "factorial()"
      ]
    },
    {
      "cell_type": "markdown",
      "id": "9b942098",
      "metadata": {
        "id": "9b942098"
      },
      "source": [
        "### Question 5\n",
        "Write a function to reverse a string without string indexing."
      ]
    },
    {
      "cell_type": "code",
      "execution_count": 47,
      "id": "d606b194",
      "metadata": {
        "colab": {
          "base_uri": "https://localhost:8080/"
        },
        "id": "d606b194",
        "outputId": "e66b9a62-bd9e-4849-9465-9a7c1f95e866"
      },
      "outputs": [
        {
          "output_type": "stream",
          "name": "stdout",
          "text": [
            "enter a string:Angel\n",
            "legnA"
          ]
        }
      ],
      "source": [
        "# Your code here\n",
        "def rev_string():\n",
        "  str = input(\"enter a string:\")\n",
        "  x = str\n",
        "  n = reversed(x)\n",
        "  for i in n:\n",
        "    print(i,end =\"\")\n",
        "rev_string()"
      ]
    },
    {
      "cell_type": "markdown",
      "id": "1abd915b",
      "metadata": {
        "id": "1abd915b"
      },
      "source": [
        "### Question 6\n",
        "Write a function to check if a string is a palindrome."
      ]
    },
    {
      "cell_type": "code",
      "execution_count": 29,
      "id": "2b868fb3",
      "metadata": {
        "colab": {
          "base_uri": "https://localhost:8080/"
        },
        "id": "2b868fb3",
        "outputId": "5fd46f4d-d1ff-4a7d-9d7a-56f8413ea20a"
      },
      "outputs": [
        {
          "output_type": "stream",
          "name": "stdout",
          "text": [
            "enter a string: malayalam\n",
            "string is a palindrome\n"
          ]
        }
      ],
      "source": [
        "# Your code here\n",
        "def your_function_6():\n",
        "  x = input(\"enter a string: \")\n",
        "  if x == x[::-1]:\n",
        "    print(\"string is a palindrome\")\n",
        "  else:\n",
        "    print(\"string is not a palindrome\")\n",
        "your_function_6()\n",
        ""
      ]
    },
    {
      "cell_type": "markdown",
      "id": "5f2f3791",
      "metadata": {
        "id": "5f2f3791"
      },
      "source": [
        "### Question 7\n",
        "Write a function to count vowels in a string."
      ]
    },
    {
      "cell_type": "code",
      "execution_count": 31,
      "id": "73fefa50",
      "metadata": {
        "colab": {
          "base_uri": "https://localhost:8080/"
        },
        "id": "73fefa50",
        "outputId": "f7f82feb-5d22-4c4d-c557-fa477d078bad"
      },
      "outputs": [
        {
          "output_type": "stream",
          "name": "stdout",
          "text": [
            "enter a string: animal\n",
            "3\n"
          ]
        }
      ],
      "source": [
        "# Your code here\n",
        "def vowels():\n",
        "  x = input(\"enter a string: \")\n",
        "  count = 0\n",
        "  vowels = \"aeiouAEIOU\"\n",
        "  for char in x:\n",
        "    if char in vowels:\n",
        "      count = count + 1\n",
        "  print(count)\n",
        "vowels()"
      ]
    },
    {
      "cell_type": "markdown",
      "id": "0d3a9996",
      "metadata": {
        "id": "0d3a9996"
      },
      "source": [
        "### Question 8\n",
        "Write a function that returns the sum of a list."
      ]
    },
    {
      "cell_type": "code",
      "execution_count": 35,
      "id": "ab6afc66",
      "metadata": {
        "colab": {
          "base_uri": "https://localhost:8080/"
        },
        "id": "ab6afc66",
        "outputId": "bdae52eb-a733-45f9-f00d-c16c46d01087"
      },
      "outputs": [
        {
          "output_type": "stream",
          "name": "stdout",
          "text": [
            "15\n"
          ]
        }
      ],
      "source": [
        "# Your code here\n",
        "def list():\n",
        "  x = [1,2,3,4,5]\n",
        "  total = sum(x)\n",
        "  print(total)\n",
        "list()\n",
        ""
      ]
    },
    {
      "cell_type": "markdown",
      "id": "f6682500",
      "metadata": {
        "id": "f6682500"
      },
      "source": [
        "### Question 9\n",
        "Write a function to find the smallest number in a list."
      ]
    },
    {
      "cell_type": "code",
      "execution_count": 38,
      "id": "6798a641",
      "metadata": {
        "colab": {
          "base_uri": "https://localhost:8080/"
        },
        "id": "6798a641",
        "outputId": "4c69a314-0d99-4197-d093-a5628b0c4f05"
      },
      "outputs": [
        {
          "output_type": "stream",
          "name": "stdout",
          "text": [
            "1\n"
          ]
        }
      ],
      "source": [
        "# Your code here\n",
        "def your_function_9():\n",
        "    x = [1,2,3,4,5]\n",
        "    print(min(x))\n",
        "your_function_9()"
      ]
    },
    {
      "cell_type": "markdown",
      "id": "fb11e683",
      "metadata": {
        "id": "fb11e683"
      },
      "source": [
        "### Question 10\n",
        "Write a function to remove duplicates from a list."
      ]
    },
    {
      "cell_type": "code",
      "execution_count": 52,
      "id": "7c53f88c",
      "metadata": {
        "colab": {
          "base_uri": "https://localhost:8080/"
        },
        "id": "7c53f88c",
        "outputId": "6b044ccc-693e-4df8-952d-2ace8734423e"
      },
      "outputs": [
        {
          "output_type": "stream",
          "name": "stdout",
          "text": [
            "[1, 2, 3]\n"
          ]
        }
      ],
      "source": [
        "# Your code here\n",
        "def list():\n",
        "  x = [1,2,2,3]\n",
        "  y = []\n",
        "  for i in x:\n",
        "    if i not in y:\n",
        "      y.append(i)\n",
        "  print(y)\n",
        "list()\n",
        "\n",
        ""
      ]
    },
    {
      "cell_type": "markdown",
      "id": "9c380a5c",
      "metadata": {
        "id": "9c380a5c"
      },
      "source": [
        "### Question 11\n",
        "Write a function to sort a list in ascending order without using builtin sort function"
      ]
    },
    {
      "cell_type": "code",
      "execution_count": 54,
      "id": "8e43832f",
      "metadata": {
        "colab": {
          "base_uri": "https://localhost:8080/"
        },
        "id": "8e43832f",
        "outputId": "8f088fb9-870e-4088-ed70-57f3202008fc"
      },
      "outputs": [
        {
          "output_type": "stream",
          "name": "stdout",
          "text": [
            "[1, 12, 50, 9, 10]\n",
            "[1, 9, 10, 12, 50]\n"
          ]
        }
      ],
      "source": [
        "# Your code here\n",
        "def your_function_11():\n",
        "    x = [1,12,50,9,10]\n",
        "    print(x)\n",
        "    for i in range(len(x)):\n",
        "      for j in range(i + 1, len(x)):\n",
        "        if x[i] > x[j]:\n",
        "          x[i], x[j] = x[j], x[i]\n",
        "    print(x)\n",
        "your_function_11()"
      ]
    },
    {
      "cell_type": "markdown",
      "id": "1270c91c",
      "metadata": {
        "id": "1270c91c"
      },
      "source": [
        "### Question 12\n",
        "Write a function that returns the length of a string."
      ]
    },
    {
      "cell_type": "code",
      "execution_count": 56,
      "id": "87f35472",
      "metadata": {
        "colab": {
          "base_uri": "https://localhost:8080/"
        },
        "id": "87f35472",
        "outputId": "314971ce-12da-4cf0-82d4-09d3a364a347"
      },
      "outputs": [
        {
          "output_type": "stream",
          "name": "stdout",
          "text": [
            "enter a string: car\n",
            "3\n"
          ]
        }
      ],
      "source": [
        "# Your code here\n",
        "def your_function_12():\n",
        "    x = input(\"enter a string: \")\n",
        "    print(len(x))\n",
        "your_function_12()"
      ]
    },
    {
      "cell_type": "markdown",
      "id": "9a8e3d28",
      "metadata": {
        "id": "9a8e3d28"
      },
      "source": [
        "### Question 13\n",
        "Write a function to count words in a sentence."
      ]
    },
    {
      "cell_type": "code",
      "execution_count": 58,
      "id": "e6f996ef",
      "metadata": {
        "colab": {
          "base_uri": "https://localhost:8080/"
        },
        "id": "e6f996ef",
        "outputId": "2f10ff6d-36d5-41cd-b6ea-909740b74264"
      },
      "outputs": [
        {
          "output_type": "stream",
          "name": "stdout",
          "text": [
            "enter a sentence: hello world\n",
            "2\n"
          ]
        }
      ],
      "source": [
        "# Your code here\n",
        "def your_function_13():\n",
        "    x = input(\"enter a sentence: \")\n",
        "    print(len(x.split()))\n",
        "your_function_13()"
      ]
    },
    {
      "cell_type": "markdown",
      "id": "430c2e4a",
      "metadata": {
        "id": "430c2e4a"
      },
      "source": [
        "### Question 14\n",
        "Write a function to convert Celsius to Fahrenheit."
      ]
    },
    {
      "cell_type": "code",
      "execution_count": 60,
      "id": "b710b0bd",
      "metadata": {
        "colab": {
          "base_uri": "https://localhost:8080/"
        },
        "id": "b710b0bd",
        "outputId": "7a331ba2-2f80-4be7-e465-0d0c13bbdfce"
      },
      "outputs": [
        {
          "output_type": "stream",
          "name": "stdout",
          "text": [
            "enter temp in celsius: 70\n",
            "158.0\n"
          ]
        }
      ],
      "source": [
        "# Your code here\n",
        "def your_function_14():\n",
        "    celsius = float(input(\"enter temp in celsius: \"))\n",
        "    fahrenheit = (celsius * 9/5) + 32\n",
        "    print(fahrenheit)\n",
        "your_function_14()"
      ]
    },
    {
      "cell_type": "markdown",
      "id": "acefe5e3",
      "metadata": {
        "id": "acefe5e3"
      },
      "source": [
        "### Question 15\n",
        "Write a function to check if a number is palindrome."
      ]
    },
    {
      "cell_type": "code",
      "execution_count": 65,
      "id": "b700abae",
      "metadata": {
        "colab": {
          "base_uri": "https://localhost:8080/"
        },
        "id": "b700abae",
        "outputId": "5bc5db6e-b9b2-4a41-b69e-886d0597f1fc"
      },
      "outputs": [
        {
          "output_type": "stream",
          "name": "stdout",
          "text": [
            "enter a number: 121\n",
            "number is a palindrome\n"
          ]
        }
      ],
      "source": [
        "# Your code here\n",
        "def your_function_15():\n",
        "    x = input(\"enter a number: \")\n",
        "    if x == x[::-1]:\n",
        "      print(\"number is a palindrome\")\n",
        "    else:\n",
        "      print(\"number is not a palindrome\")\n",
        "your_function_15()"
      ]
    },
    {
      "cell_type": "markdown",
      "id": "b63452cb",
      "metadata": {
        "id": "b63452cb"
      },
      "source": [
        "### Question 16\n",
        "Write a function to return all even numbers in a list."
      ]
    },
    {
      "cell_type": "code",
      "execution_count": 77,
      "id": "9d1fc968",
      "metadata": {
        "colab": {
          "base_uri": "https://localhost:8080/"
        },
        "id": "9d1fc968",
        "outputId": "f9e53e42-2a80-4f40-e9fa-b5d4e83e5d54"
      },
      "outputs": [
        {
          "output_type": "stream",
          "name": "stdout",
          "text": [
            "[2, 4, 6, 12]\n"
          ]
        }
      ],
      "source": [
        "# Your code here\n",
        "def your_function_16():\n",
        "   x = [1,2,4,6,12,13,15]\n",
        "   y = []\n",
        "   for i in x:\n",
        "    if i % 2 == 0:\n",
        "      y.append(i)\n",
        "   print(y)\n",
        "your_function_16()\n",
        ""
      ]
    },
    {
      "cell_type": "markdown",
      "id": "aca524d9",
      "metadata": {
        "id": "aca524d9"
      },
      "source": [
        "### Question 17\n",
        "Write a function to return the nth Fibonacci number."
      ]
    },
    {
      "cell_type": "code",
      "execution_count": 96,
      "id": "97dc4e87",
      "metadata": {
        "colab": {
          "base_uri": "https://localhost:8080/"
        },
        "id": "97dc4e87",
        "outputId": "6201bfd0-93e0-4a6e-8f4f-5e0bb1912f31"
      },
      "outputs": [
        {
          "output_type": "execute_result",
          "data": {
            "text/plain": [
              "13"
            ]
          },
          "metadata": {},
          "execution_count": 96
        }
      ],
      "source": [
        "# Your code here\n",
        "def fibonacci(n):\n",
        "  a = 0\n",
        "  b = 1\n",
        "  for i in range(n):\n",
        "    a ,b = b, a + b\n",
        "  return a\n",
        "fibonacci(7)"
      ]
    },
    {
      "cell_type": "markdown",
      "id": "29c847dc",
      "metadata": {
        "id": "29c847dc"
      },
      "source": [
        "### Question 18\n",
        "Write a function to calculate the average of a list."
      ]
    },
    {
      "cell_type": "code",
      "execution_count": 78,
      "id": "9adc9fd2",
      "metadata": {
        "colab": {
          "base_uri": "https://localhost:8080/"
        },
        "id": "9adc9fd2",
        "outputId": "b48d691f-ba48-4eee-83ea-5bddafcf5d13"
      },
      "outputs": [
        {
          "output_type": "stream",
          "name": "stdout",
          "text": [
            "3.0\n"
          ]
        }
      ],
      "source": [
        "# Your code here\n",
        "def your_function_18():\n",
        "    x = [1,2,3,4,5]\n",
        "    print(sum(x)/len(x))\n",
        "your_function_18()"
      ]
    },
    {
      "cell_type": "markdown",
      "id": "420240fb",
      "metadata": {
        "id": "420240fb"
      },
      "source": [
        "### Question 19\n",
        "Write a function that returns a dictionary of character counts."
      ]
    },
    {
      "cell_type": "code",
      "execution_count": 99,
      "id": "95cafc54",
      "metadata": {
        "colab": {
          "base_uri": "https://localhost:8080/"
        },
        "id": "95cafc54",
        "outputId": "26b62d31-c52d-43eb-ce24-0e53a17efe82"
      },
      "outputs": [
        {
          "name": "stdout",
          "output_type": "stream",
          "text": [
            "Enter a string: welcome\n"
          ]
        },
        {
          "output_type": "execute_result",
          "data": {
            "text/plain": [
              "{'w': 1, 'e': 2, 'l': 1, 'c': 1, 'o': 1, 'm': 1}"
            ]
          },
          "metadata": {},
          "execution_count": 99
        }
      ],
      "source": [
        "# Your code here\n",
        "def your_function_19():\n",
        "  x = input(\"Enter a string: \")\n",
        "  y = {}\n",
        "  for i in x:\n",
        "    if i in y:\n",
        "      y[i] += 1\n",
        "    else:\n",
        "      y[i] = 1\n",
        "  return y\n",
        "\n",
        "your_function_19()"
      ]
    },
    {
      "cell_type": "markdown",
      "id": "17629a07",
      "metadata": {
        "id": "17629a07"
      },
      "source": [
        "### Question 20\n",
        "Write a function that returns True if all list elements are unique."
      ]
    },
    {
      "cell_type": "code",
      "execution_count": 83,
      "id": "fe4f8820",
      "metadata": {
        "colab": {
          "base_uri": "https://localhost:8080/"
        },
        "id": "fe4f8820",
        "outputId": "fa640acb-ab30-4c34-b74f-d6ec32b4040d"
      },
      "outputs": [
        {
          "output_type": "stream",
          "name": "stdout",
          "text": [
            "true\n"
          ]
        }
      ],
      "source": [
        "# Your code here\n",
        "def your_function_20():\n",
        "    x = [1,2,3,4,5]\n",
        "    y = []\n",
        "    for i in x:\n",
        "      if i not in y:\n",
        "        y.append(i)\n",
        "    if len(x) == len(y):\n",
        "      print(\"true\")\n",
        "    else:\n",
        "      print(\"false\")\n",
        "your_function_20()"
      ]
    },
    {
      "cell_type": "markdown",
      "id": "91dc87b9",
      "metadata": {
        "id": "91dc87b9"
      },
      "source": [
        "### Question 21\n",
        "Write a function that returns dot product of two list of numbers"
      ]
    },
    {
      "cell_type": "code",
      "execution_count": 85,
      "id": "87c3fa4b",
      "metadata": {
        "colab": {
          "base_uri": "https://localhost:8080/"
        },
        "id": "87c3fa4b",
        "outputId": "efe39861-aefe-41fc-8b33-7a643952840a"
      },
      "outputs": [
        {
          "output_type": "stream",
          "name": "stdout",
          "text": [
            "dot_product: 10\n"
          ]
        }
      ],
      "source": [
        "# Your code here\n",
        "def your_function_21():\n",
        "    x1 , y1 = [2,4]\n",
        "    x2 , y2 = [1,2]\n",
        "    dot_product = x1*x2 + y1*y2\n",
        "    print(\"dot_product:\",dot_product)\n",
        "your_function_21()"
      ]
    },
    {
      "cell_type": "markdown",
      "id": "5eeb0527",
      "metadata": {
        "id": "5eeb0527"
      },
      "source": [
        "### Question 22\n",
        "Write a function that returns the projection of vector a onto vector b. Both a and b are given as list of numbers"
      ]
    },
    {
      "cell_type": "code",
      "execution_count": 88,
      "id": "d2c2439f",
      "metadata": {
        "colab": {
          "base_uri": "https://localhost:8080/"
        },
        "id": "d2c2439f",
        "outputId": "b19bb928-eaba-43ed-e558-e2972ca19852"
      },
      "outputs": [
        {
          "output_type": "stream",
          "name": "stdout",
          "text": [
            "projection: 19.68\n"
          ]
        }
      ],
      "source": [
        "# Your code here\n",
        "def your_function_22():\n",
        "    x = [12,16]\n",
        "    y = [4,8]\n",
        "    dot_product = x[0]*y[0] + x[1]*y[1]\n",
        "    magnitude_b = (y[0]**2 + y[1]**2)**0.5\n",
        "    projection = (dot_product / magnitude_b)\n",
        "    print(\"projection: %.2f\"%projection)\n",
        "your_function_22()"
      ]
    },
    {
      "cell_type": "markdown",
      "id": "1410b385",
      "metadata": {
        "id": "1410b385"
      },
      "source": [
        "### Question 23\n",
        "Write a function to return common elements between two lists."
      ]
    },
    {
      "cell_type": "code",
      "execution_count": 91,
      "id": "2cee584c",
      "metadata": {
        "colab": {
          "base_uri": "https://localhost:8080/"
        },
        "id": "2cee584c",
        "outputId": "f4e76ab4-54fa-4a58-bab2-a912333dac47"
      },
      "outputs": [
        {
          "output_type": "stream",
          "name": "stdout",
          "text": [
            "common [3, 4, 5]\n"
          ]
        }
      ],
      "source": [
        "# Your code here\n",
        "def your_function_23():\n",
        "    x = [1,2,3,4,5]\n",
        "    y = [3,4,5,6,7]\n",
        "    common = []\n",
        "    for i in x:\n",
        "      if i in y:\n",
        "          common.append(i)\n",
        "    print(\"common\",common)\n",
        "your_function_23()"
      ]
    },
    {
      "cell_type": "markdown",
      "id": "23ab5210",
      "metadata": {
        "id": "23ab5210"
      },
      "source": [
        "### Question 24\n",
        "Create a class Vector that supports addition, dot product, and magnitude."
      ]
    },
    {
      "cell_type": "code",
      "execution_count": 103,
      "id": "f6b18fd7",
      "metadata": {
        "id": "f6b18fd7"
      },
      "outputs": [],
      "source": [
        "# Your code here\n",
        "def your_function_24():\n",
        "    pass"
      ]
    },
    {
      "cell_type": "markdown",
      "id": "a0621aba",
      "metadata": {
        "id": "a0621aba"
      },
      "source": [
        "### Question 25\n",
        "Implement a function to return all outliers in a list based on the IQR method."
      ]
    },
    {
      "cell_type": "code",
      "execution_count": 109,
      "id": "460a8994",
      "metadata": {
        "colab": {
          "base_uri": "https://localhost:8080/"
        },
        "id": "460a8994",
        "outputId": "77fb68e8-e3ba-4ac4-d8ba-134cea3fbcc7"
      },
      "outputs": [
        {
          "output_type": "stream",
          "name": "stdout",
          "text": [
            "Q1 :  20\n",
            "Q3 :  50\n",
            "IQR :  30\n",
            "Lower bound :  -25.0\n",
            "Upper bound :  95.0\n",
            "Outliers: None\n"
          ]
        }
      ],
      "source": [
        "# Your code here\n",
        "def your_function_25():\n",
        "    n = [10,20,30,40,50]\n",
        "    Q1 = int(25/100 * len(n)+1)\n",
        "    Q3 = int(75/100 * len(n)+1)\n",
        "    print(\"Q1 : \",n[Q1-1])\n",
        "    print(\"Q3 : \",n[Q3])\n",
        "    IQR = n[Q3] - n[Q1-1]\n",
        "    print(\"IQR : \",IQR)\n",
        "    LB = n[Q1-1] - (1.5 * IQR)\n",
        "    print(\"Lower bound : \",LB)\n",
        "    UB = n[Q3] + 1.5 * IQR\n",
        "    print(\"Upper bound : \",UB)\n",
        "    outliers = []\n",
        "    for i in n:\n",
        "        if i < LB or i > UB:\n",
        "            outliers.append(i)\n",
        "    if outliers:\n",
        "        return outliers\n",
        "    else:\n",
        "        return None\n",
        "print(\"Outliers:\", your_function_25())"
      ]
    },
    {
      "cell_type": "markdown",
      "id": "f0be510e",
      "metadata": {
        "id": "f0be510e"
      },
      "source": [
        "### Question 26\n",
        "Function with default arguments:\n",
        "Create a function to compute variance with an option to use sample or population formula"
      ]
    },
    {
      "cell_type": "code",
      "execution_count": null,
      "id": "941d732d",
      "metadata": {
        "id": "941d732d"
      },
      "outputs": [],
      "source": [
        "# Your code here\n",
        "def your_function_26():\n",
        "    pass"
      ]
    },
    {
      "cell_type": "markdown",
      "id": "c39be0f1",
      "metadata": {
        "id": "c39be0f1"
      },
      "source": [
        "### Question 27\n",
        "Create a list of squares of even numbers between 1 and 20 using list comprehension."
      ]
    },
    {
      "cell_type": "code",
      "execution_count": 107,
      "id": "9e4ba74a",
      "metadata": {
        "colab": {
          "base_uri": "https://localhost:8080/"
        },
        "id": "9e4ba74a",
        "outputId": "d798f91b-76d5-42ae-ef89-681559daf1b1"
      },
      "outputs": [
        {
          "output_type": "stream",
          "name": "stdout",
          "text": [
            "[4, 16, 36, 64, 100, 144, 196, 256, 324, 400]\n"
          ]
        }
      ],
      "source": [
        "# Your code here\n",
        "def your_function_27():\n",
        "    squares = [x**2 for x in range(1,21) if x%2==0]\n",
        "    return squares\n",
        "\n",
        "print(your_function_27())"
      ]
    },
    {
      "cell_type": "markdown",
      "id": "b43c266d",
      "metadata": {
        "id": "b43c266d"
      },
      "source": [
        "### Question 28\n",
        "Write a function that returns the L1 and L2 norms of a vector given as list"
      ]
    },
    {
      "cell_type": "code",
      "execution_count": null,
      "id": "4f5dc876",
      "metadata": {
        "id": "4f5dc876"
      },
      "outputs": [],
      "source": [
        "# Your code here\n",
        "def your_function_28():\n",
        "    pass"
      ]
    },
    {
      "cell_type": "markdown",
      "id": "2007915f",
      "metadata": {
        "id": "2007915f"
      },
      "source": [
        "### Question 29\n",
        "Write a function that computes the 95% confidence interval for the mean of a list of numbers assuming normal distribution."
      ]
    },
    {
      "cell_type": "code",
      "execution_count": null,
      "id": "8634dc63",
      "metadata": {
        "id": "8634dc63"
      },
      "outputs": [],
      "source": [
        "# Your code here\n",
        "def your_function_29():\n",
        "    pass"
      ]
    },
    {
      "cell_type": "markdown",
      "id": "08df3afb",
      "metadata": {
        "id": "08df3afb"
      },
      "source": [
        "### Question 30\n",
        "Given a list of categorical values, create a frequency distribution dictionary."
      ]
    },
    {
      "cell_type": "code",
      "execution_count": null,
      "id": "c9b88531",
      "metadata": {
        "id": "c9b88531"
      },
      "outputs": [],
      "source": [
        "# Your code here\n",
        "def your_function_30():\n",
        "    pass"
      ]
    }
  ],
  "metadata": {
    "language_info": {
      "name": "python"
    },
    "colab": {
      "provenance": []
    },
    "kernelspec": {
      "name": "python3",
      "display_name": "Python 3"
    }
  },
  "nbformat": 4,
  "nbformat_minor": 5
}